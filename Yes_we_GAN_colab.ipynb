{
  "nbformat": 4,
  "nbformat_minor": 0,
  "metadata": {
    "colab": {
      "name": "Yes_we_GAN_colab.ipynb",
      "version": "0.3.2",
      "provenance": [],
      "collapsed_sections": []
    },
    "kernelspec": {
      "name": "python3",
      "display_name": "Python 3"
    },
    "accelerator": "GPU"
  },
  "cells": [
    {
      "cell_type": "markdown",
      "metadata": {
        "id": "view-in-github",
        "colab_type": "text"
      },
      "source": [
        "[View in Colaboratory](https://colab.research.google.com/github/dkatsios/Yes_we_GAN/blob/master/Yes_we_GAN_colab.ipynb)"
      ]
    },
    {
      "metadata": {
        "id": "W5zOTmuBLY9m",
        "colab_type": "text"
      },
      "cell_type": "markdown",
      "source": [
        "# Yes we GAN\n",
        "#### An example of GAN applications on simple datasets"
      ]
    },
    {
      "metadata": {
        "id": "cZ31nkQTL16W",
        "colab_type": "text"
      },
      "cell_type": "markdown",
      "source": [
        "### Clone the repository"
      ]
    },
    {
      "metadata": {
        "id": "nl1eRH3ELNtO",
        "colab_type": "code",
        "colab": {}
      },
      "cell_type": "code",
      "source": [
        "%cd /content/\n",
        "%rm -r Yes_we_GAN\n",
        "!git clone https://github.com/dkatsios/Yes_we_GAN.git\n",
        "%cd /content/Yes_we_GAN\n",
        "%rm -r 0a16ae419d9eba160ddb4f48862fb9e2\n",
        "!git clone https://gist.github.com/dkatsios/0a16ae419d9eba160ddb4f48862fb9e2.git"
      ],
      "execution_count": 0,
      "outputs": []
    },
    {
      "metadata": {
        "id": "aV4dMGVZL6rv",
        "colab_type": "text"
      },
      "cell_type": "markdown",
      "source": [
        "### Imports"
      ]
    },
    {
      "metadata": {
        "id": "OsPc3IBGtPy4",
        "colab_type": "code",
        "colab": {}
      },
      "cell_type": "code",
      "source": [
        "!pip install import_ipynb\n",
        "import import_ipynb\n",
        "%cd /content/Yes_we_GAN/0a16ae419d9eba160ddb4f48862fb9e2\n",
        "from AnimationDisplay import plot_results\n",
        "%cd /content/Yes_we_GAN\n",
        "import os\n",
        "import IPython\n",
        "import GAN_builder\n",
        "from GAN_builder import build_and_train\n",
        "import numpy as np\n",
        "np.random.seed(123)\n",
        "from IPython.display import HTML\n",
        "import tensorflow as tf\n",
        "g = tf.Graph()"
      ],
      "execution_count": 0,
      "outputs": []
    },
    {
      "metadata": {
        "id": "fVsYpg3qPOQL",
        "colab_type": "code",
        "colab": {}
      },
      "cell_type": "code",
      "source": [
        "# print(build_and_train.__doc__)"
      ],
      "execution_count": 0,
      "outputs": []
    },
    {
      "metadata": {
        "id": "00ZDxLBlMHpD",
        "colab_type": "text"
      },
      "cell_type": "markdown",
      "source": [
        "### Train a simple Fully Connected GAN on MNIST"
      ]
    },
    {
      "metadata": {
        "id": "sv1ltnzIGcYt",
        "colab_type": "code",
        "colab": {}
      },
      "cell_type": "code",
      "source": [
        "model_params = {'model_type': 'fc',\n",
        "                'dataset': 'fashion_mnist'\n",
        "                }\n",
        "\n",
        "train_params = {'epochs': 5000,\n",
        "                'batch_size': 64,\n",
        "                'sample_interval': 100,\n",
        "                'model_interval': 5000}\n",
        "\n",
        "model_params['model_labels'] = [model_params['model_type']]\n",
        "\n",
        "sess = tf.InteractiveSession(graph=g)\n",
        "with g.as_default():\n",
        "  build_and_train(model_params=model_params, train_params=train_params)\n",
        "tf.InteractiveSession.close(sess)"
      ],
      "execution_count": 0,
      "outputs": []
    },
    {
      "metadata": {
        "id": "SslsGIL7MlQS",
        "colab_type": "text"
      },
      "cell_type": "markdown",
      "source": [
        "### Plot the generated images\n",
        "##### Change the number to obtain images generated at different stages of the training"
      ]
    },
    {
      "metadata": {
        "id": "JGnRU5m-AUl2",
        "colab_type": "code",
        "colab": {}
      },
      "cell_type": "code",
      "source": [
        "path = './result_images/fashion_mnist/fc/fc_samples_{}.png'\n",
        "iterator = range(train_params['sample_interval'], train_params['epochs']+1, train_params['sample_interval'])\n",
        "HTML(plot_results(path, iterator).to_jshtml())"
      ],
      "execution_count": 0,
      "outputs": []
    },
    {
      "metadata": {
        "id": "EFgmSW5YM51O",
        "colab_type": "text"
      },
      "cell_type": "markdown",
      "source": [
        "### Train a simple Fully Connected GAN on flags dataset (32x32)"
      ]
    },
    {
      "metadata": {
        "id": "YN8exQ9w31Or",
        "colab_type": "code",
        "colab": {}
      },
      "cell_type": "code",
      "source": [
        "model_params = {'model_type': 'fc',\n",
        "                'dataset': './flags/32x32/'  # changed dataset value\n",
        "                }\n",
        "\n",
        "train_params = {'epochs': 5000,\n",
        "                'batch_size': 64,\n",
        "                'sample_interval': 100,\n",
        "                'model_interval': 5000}\n",
        "\n",
        "model_params['model_labels'] = [model_params['model_type']]\n",
        "\n",
        "sess = tf.InteractiveSession(graph=g)\n",
        "with g.as_default():\n",
        "  build_and_train(model_params=model_params, train_params=train_params)\n",
        "tf.InteractiveSession.close(sess)"
      ],
      "execution_count": 0,
      "outputs": []
    },
    {
      "metadata": {
        "id": "MIv54ZemPt6k",
        "colab_type": "text"
      },
      "cell_type": "markdown",
      "source": [
        "### Plot the generated images\n",
        "##### Change the number to obtain images generated at different stages of the training"
      ]
    },
    {
      "metadata": {
        "id": "t8tI4xXdPuUE",
        "colab_type": "code",
        "colab": {}
      },
      "cell_type": "code",
      "source": [
        "path = './result_images/flags/32x32/fc/fc_samples_{}.png'\n",
        "iterator = range(train_params['sample_interval'], train_params['epochs']+1, train_params['sample_interval'])\n",
        "HTML(plot_results(path, iterator).to_jshtml())"
      ],
      "execution_count": 0,
      "outputs": []
    },
    {
      "metadata": {
        "id": "a4l4CAfXuyd6",
        "colab_type": "text"
      },
      "cell_type": "markdown",
      "source": [
        "### Train a simple Fully Connected GAN on flags dataset (32x32) with label smoothing (0.9 for real images labels)"
      ]
    },
    {
      "metadata": {
        "id": "-wK1tVYAPwNs",
        "colab_type": "code",
        "colab": {}
      },
      "cell_type": "code",
      "source": [
        "model_params = {'model_type': 'fc',\n",
        "                'dataset': './flags/32x32/'\n",
        "                }\n",
        "\n",
        "train_params = {'epochs': 5000,\n",
        "                'batch_size': 64,\n",
        "                'sample_interval': 100,\n",
        "                'model_interval': 5000,\n",
        "                'wgan_clip': -1,\n",
        "                'label_smoothing': {'real': 0.9},\n",
        "                'gen_to_disc_ratio': (1, 1)}\n",
        "\n",
        "model_params['model_labels'] = [model_params['model_type'], 'ls']  # added 'ls'\n",
        "\n",
        "sess = tf.InteractiveSession(graph=g)\n",
        "with g.as_default():\n",
        "  build_and_train(model_params=model_params, train_params=train_params)\n",
        "tf.InteractiveSession.close(sess)"
      ],
      "execution_count": 0,
      "outputs": []
    },
    {
      "metadata": {
        "id": "7h-P-c9eu9A5",
        "colab_type": "text"
      },
      "cell_type": "markdown",
      "source": [
        "### Plot the generated images\n",
        "##### Change the number to obtain images generated at different stages of the training"
      ]
    },
    {
      "metadata": {
        "id": "IsVwfTbmoRG5",
        "colab_type": "code",
        "colab": {}
      },
      "cell_type": "code",
      "source": [
        "path = './result_images/flags/32x32/fc_ls/fc_ls_samples_{}.png'\n",
        "iterator = range(train_params['sample_interval'], train_params['epochs']+1, train_params['sample_interval'])\n",
        "HTML(plot_results(path, iterator).to_jshtml())"
      ],
      "execution_count": 0,
      "outputs": []
    },
    {
      "metadata": {
        "id": "nHP0_LqIWUNU",
        "colab_type": "text"
      },
      "cell_type": "markdown",
      "source": [
        "### Train a simple Fully Connected GAN on flags dataset (32x32) using wgan (Wasserstein)"
      ]
    },
    {
      "metadata": {
        "id": "LCAH9LvOWUbc",
        "colab_type": "code",
        "colab": {}
      },
      "cell_type": "code",
      "source": [
        "model_params = {'model_type': 'fc',\n",
        "                'dataset': './flags/32x32/',\n",
        "                'wgan': True  # changed to True\n",
        "                }\n",
        "\n",
        "train_params = {'epochs': 5000,\n",
        "                'batch_size': 64,\n",
        "                'sample_interval': 100,\n",
        "                'model_interval': 5000,\n",
        "                'wgan_clip': -1  # we can also change this value (e.g. 0.01)\n",
        "               }\n",
        "\n",
        "model_params['model_labels'] = [model_params['model_type'], 'wgan']  # added 'wgan'\n",
        "\n",
        "sess = tf.InteractiveSession(graph=g)\n",
        "with g.as_default():\n",
        "  build_and_train(model_params=model_params, train_params=train_params)\n",
        "tf.InteractiveSession.close(sess)"
      ],
      "execution_count": 0,
      "outputs": []
    },
    {
      "metadata": {
        "id": "CuLNZrVCXAjT",
        "colab_type": "text"
      },
      "cell_type": "markdown",
      "source": [
        "### Plot the generated images\n",
        "##### Change the number to obtain images generated at different stages of the training"
      ]
    },
    {
      "metadata": {
        "id": "LnqfJVpoXBHy",
        "colab_type": "code",
        "colab": {}
      },
      "cell_type": "code",
      "source": [
        "path = './result_images/flags/32x32/fc_wgan/fc_wgan_samples_{}.png'\n",
        "iterator = range(train_params['sample_interval'], train_params['epochs']+1, train_params['sample_interval'])\n",
        "HTML(plot_results(path, iterator).to_jshtml())"
      ],
      "execution_count": 0,
      "outputs": []
    },
    {
      "metadata": {
        "id": "dBjVhBOaaPs-",
        "colab_type": "text"
      },
      "cell_type": "markdown",
      "source": [
        "### Train a simple Convolutional GAN (DCGAN) on MNIST"
      ]
    },
    {
      "metadata": {
        "id": "apvXhQmBaaoW",
        "colab_type": "code",
        "colab": {}
      },
      "cell_type": "code",
      "source": [
        "model_params = {'model_type': 'cv',  # change this to 'cv' (for Convolutional)\n",
        "                'dataset': 'mnist'\n",
        "                }\n",
        "\n",
        "train_params = {'epochs': 5000,\n",
        "                'batch_size': 64,\n",
        "                'sample_interval': 100,\n",
        "                'model_interval': 5000}\n",
        "\n",
        "model_params['model_labels'] = [model_params['model_type']]\n",
        "\n",
        "sess = tf.InteractiveSession(graph=g)\n",
        "with g.as_default():\n",
        "  build_and_train(model_params=model_params, train_params=train_params)\n",
        "tf.InteractiveSession.close(sess)"
      ],
      "execution_count": 0,
      "outputs": []
    },
    {
      "metadata": {
        "id": "lFwbkDRIalxL",
        "colab_type": "text"
      },
      "cell_type": "markdown",
      "source": [
        "### Plot the generated images\n",
        "##### Change the number to obtain images generated at different stages of the training"
      ]
    },
    {
      "metadata": {
        "id": "FQgfGd28amXJ",
        "colab_type": "code",
        "colab": {}
      },
      "cell_type": "code",
      "source": [
        "path = './result_images/mnist/cv/cv_samples_{}.png'\n",
        "iterator = range(train_params['sample_interval'], train_params['epochs']+1, train_params['sample_interval'])\n",
        "HTML(plot_results(path, iterator).to_jshtml())\n"
      ],
      "execution_count": 0,
      "outputs": []
    },
    {
      "metadata": {
        "id": "8s-ueWQAawqd",
        "colab_type": "text"
      },
      "cell_type": "markdown",
      "source": [
        "### Now experiment yourself!"
      ]
    },
    {
      "metadata": {
        "id": "DRVUtVf-bOIF",
        "colab_type": "code",
        "colab": {}
      },
      "cell_type": "code",
      "source": [
        ""
      ],
      "execution_count": 0,
      "outputs": []
    }
  ]
}